{
 "cells": [
  {
   "cell_type": "code",
   "execution_count": 1,
   "id": "ef8d95af",
   "metadata": {
    "ExecuteTime": {
     "end_time": "2023-11-17T17:45:35.742339Z",
     "start_time": "2023-11-17T17:45:34.397859Z"
    }
   },
   "outputs": [],
   "source": [
    "import argparse\n",
    "import os\n",
    "import tqdm\n",
    "import utils\n",
    "import pickle\n",
    "import numpy as np\n",
    "import pandas as pd\n",
    "import matplotlib.pyplot as plt"
   ]
  },
  {
   "cell_type": "code",
   "execution_count": 2,
   "id": "4c508e64",
   "metadata": {
    "ExecuteTime": {
     "end_time": "2023-11-17T17:45:35.751658Z",
     "start_time": "2023-11-17T17:45:35.745089Z"
    }
   },
   "outputs": [],
   "source": [
    "def encode_data(data, algorithm, verbose):\n",
    "    imgs = []\n",
    "    \n",
    "    data = np.array(data*255, np.uint8)\n",
    "    ttrain = tqdm.tqdm(range(len(data.transpose()[0].transpose())-31)) if eval(verbose) else range(len(data.transpose()[0].transpose())-31)\n",
    "    for t in ttrain:\n",
    "        img = np.array([np.array(encode(data.transpose()[0].transpose(), t, algorithm), np.uint8),\n",
    "                        np.array(encode(data.transpose()[2].transpose(), t, algorithm), np.uint8),\n",
    "                        np.array(encode(data.transpose()[3].transpose(), t, algorithm), np.uint8)])\n",
    "        img = np.swapaxes(img, 0, -1)\n",
    "        imgs.append(img)\n",
    "    imgs = np.array(imgs)\n",
    "    \n",
    "    return imgs"
   ]
  },
  {
   "cell_type": "code",
   "execution_count": null,
   "id": "d6587c01",
   "metadata": {},
   "outputs": [],
   "source": [
    "def encode_data(data, algorithm, verbose):\n",
    "    imgs = []\n",
    "    \n",
    "    data = np.array(data*255, np.uint8)\n",
    "    ttrain = tqdm.tqdm(range(len(data.transpose()[0].transpose()))) if eval(verbose) else range(len(data.transpose()[0].transpose()))\n",
    "    for t in ttrain:\n",
    "        img = np.array([np.array(utils.encode(data.transpose()[0].transpose()[t], algorithm), np.uint8),\n",
    "                        np.array(utils.encode(data.transpose()[2].transpose()[t], algorithm), np.uint8),\n",
    "                        np.array(utils.encode(data.transpose()[3].transpose()[t], algorithm), np.uint8)])\n",
    "        img = np.swapaxes(img, 0, -1)\n",
    "        imgs.append(img)\n",
    "    imgs = np.array(imgs)\n",
    "    \n",
    "    return imgs"
   ]
  },
  {
   "cell_type": "code",
   "execution_count": 3,
   "id": "1f54a13d",
   "metadata": {
    "ExecuteTime": {
     "end_time": "2023-11-17T17:45:36.044194Z",
     "start_time": "2023-11-17T17:45:35.752961Z"
    }
   },
   "outputs": [],
   "source": [
    "import pyts.image\n",
    "\n",
    "def encode(series, time, algorithm='Recurrent Plot'):\n",
    "    if algorithm in ['Recurrent Plot', 'RP']:\n",
    "        series = series[time]\n",
    "        length = series.size\n",
    "        repeat = np.repeat(series[None, :], length, axis=0)\n",
    "        recurr = np.floor(np.abs(repeat - repeat.T))\n",
    "        recurr[recurr>255] = 255\n",
    "        return recurr\n",
    "    \n",
    "    elif algorithm in ['GASF']:\n",
    "        gasf = pyts.image.GramianAngularField(image_size=32, method=\"summation\")\n",
    "        series_s = gasf.fit_transform(series[time].reshape(1, -1))\n",
    "        \n",
    "        return series_s[0]\n",
    "    \n",
    "    elif algorithm in ['GADF']:\n",
    "        gadf = pyts.image.GramianAngularField(image_size=32, method=\"difference\")\n",
    "        series_d = gadf.fit_transform(series[time].reshape(1, -1))\n",
    "        \n",
    "        return series_d[0]\n",
    "    \n",
    "    elif algorithm in ['GAF']:\n",
    "        gasf = pyts.image.GramianAngularField(image_size=32, method=\"summation\")\n",
    "        series_s = gasf.fit_transform(series[time].reshape(1, -1))\n",
    "        \n",
    "        gadf = pyts.image.GramianAngularField(image_size=32, method=\"difference\")\n",
    "        series_d = gadf.fit_transform(series[time].reshape(1, -1))\n",
    "        \n",
    "        gaf = series_s + series_d\n",
    "        \n",
    "        return gaf[0]\n",
    "    \n",
    "    elif algorithm in ['stack']:\n",
    "        return np.array(np.vstack(series[time:time+32])*255, np.uint8)"
   ]
  },
  {
   "cell_type": "code",
   "execution_count": 4,
   "id": "be565ba9",
   "metadata": {
    "ExecuteTime": {
     "end_time": "2023-11-17T17:45:37.317884Z",
     "start_time": "2023-11-17T17:45:36.045636Z"
    }
   },
   "outputs": [],
   "source": [
    "raws = utils.load_data('/working/srcs/comp_prep/data/', 'BRS_data.pkl')[:10034]"
   ]
  },
  {
   "cell_type": "code",
   "execution_count": 5,
   "id": "dc031fd3",
   "metadata": {
    "ExecuteTime": {
     "end_time": "2023-11-17T17:45:38.353054Z",
     "start_time": "2023-11-17T17:45:37.320366Z"
    }
   },
   "outputs": [
    {
     "name": "stderr",
     "output_type": "stream",
     "text": [
      "100%|██████████████████████████████████████████████████████████████████████████| 10003/10003 [00:00<00:00, 13728.35it/s]\n"
     ]
    },
    {
     "name": "stdout",
     "output_type": "stream",
     "text": [
      "15 17 9 9\n"
     ]
    },
    {
     "data": {
      "image/png": "[encoded data removed]",
      "text/plain": [
       "<Figure size 432x288 with 4 Axes>"
      ]
     },
     "metadata": {
      "needs_background": "light"
     },
     "output_type": "display_data"
    }
   ],
   "source": [
    "RP_imgs = encode_data(raws, \"RP\", \"True\")\n",
    "\n",
    "plt.subplots(constrained_layout=True);\n",
    "plt.subplot(221); plt.imshow(RP_imgs[101])\n",
    "plt.subplot(222); plt.imshow(RP_imgs[102])\n",
    "plt.subplot(223); plt.imshow(RP_imgs[10001])\n",
    "plt.subplot(224); plt.imshow(RP_imgs[10002])\n",
    "print(\n",
    "    len(np.unique(RP_imgs[101])),\n",
    "    len(np.unique(RP_imgs[102])),\n",
    "    len(np.unique(RP_imgs[10001])),\n",
    "    len(np.unique(RP_imgs[10002]))\n",
    "     )"
   ]
  },
  {
   "cell_type": "code",
   "execution_count": 6,
   "id": "45981464",
   "metadata": {
    "ExecuteTime": {
     "end_time": "2023-11-17T17:45:39.855968Z",
     "start_time": "2023-11-17T17:45:38.354516Z"
    }
   },
   "outputs": [
    {
     "name": "stderr",
     "output_type": "stream",
     "text": [
      "100%|███████████████████████████████████████████████████████████████████████████| 10003/10003 [00:01<00:00, 8276.37it/s]\n"
     ]
    },
    {
     "name": "stdout",
     "output_type": "stream",
     "text": [
      "28 28 15 15\n"
     ]
    },
    {
     "data": {
      "image/png": "[encoded data removed]",
      "text/plain": [
       "<Figure size 432x288 with 4 Axes>"
      ]
     },
     "metadata": {
      "needs_background": "light"
     },
     "output_type": "display_data"
    }
   ],
   "source": [
    "CP_imgs = encode_data(raws, \"stack\", \"True\")\n",
    "\n",
    "plt.subplots(constrained_layout=True);\n",
    "plt.subplot(221); plt.imshow(CP_imgs[101])\n",
    "plt.subplot(222); plt.imshow(CP_imgs[102])\n",
    "plt.subplot(223); plt.imshow(CP_imgs[10001])\n",
    "plt.subplot(224); plt.imshow(CP_imgs[10002])\n",
    "print(\n",
    "    len(np.unique(CP_imgs[101])),\n",
    "    len(np.unique(CP_imgs[102])),\n",
    "    len(np.unique(CP_imgs[10001])),\n",
    "    len(np.unique(CP_imgs[10002]))\n",
    "     )"
   ]
  },
  {
   "cell_type": "code",
   "execution_count": 7,
   "id": "00fc2c64",
   "metadata": {
    "ExecuteTime": {
     "end_time": "2023-11-17T17:45:46.430457Z",
     "start_time": "2023-11-17T17:45:39.857465Z"
    }
   },
   "outputs": [
    {
     "name": "stderr",
     "output_type": "stream",
     "text": [
      "100%|███████████████████████████████████████████████████████████████████████████| 10003/10003 [00:06<00:00, 1593.33it/s]\n"
     ]
    },
    {
     "name": "stdout",
     "output_type": "stream",
     "text": [
      "3 3 3 3\n"
     ]
    },
    {
     "data": {
      "image/png": "[encoded data removed]",
      "text/plain": [
       "<Figure size 432x288 with 4 Axes>"
      ]
     },
     "metadata": {
      "needs_background": "light"
     },
     "output_type": "display_data"
    }
   ],
   "source": [
    "GASF_imgs = encode_data(raws, \"GASF\", \"True\")\n",
    "\n",
    "plt.subplots(constrained_layout=True);\n",
    "plt.subplot(221); plt.imshow(GASF_imgs[101])\n",
    "plt.subplot(222); plt.imshow(GASF_imgs[102])\n",
    "plt.subplot(223); plt.imshow(GASF_imgs[10001])\n",
    "plt.subplot(224); plt.imshow(GASF_imgs[10002])\n",
    "print(\n",
    "    len(np.unique(GASF_imgs[101])),\n",
    "    len(np.unique(GASF_imgs[102])),\n",
    "    len(np.unique(GASF_imgs[10001])),\n",
    "    len(np.unique(GASF_imgs[10002]))\n",
    "     )"
   ]
  },
  {
   "cell_type": "code",
   "execution_count": 9,
   "id": "73f49ff2",
   "metadata": {
    "ExecuteTime": {
     "end_time": "2023-11-17T17:45:52.427018Z",
     "start_time": "2023-11-17T17:45:46.436114Z"
    }
   },
   "outputs": [
    {
     "name": "stderr",
     "output_type": "stream",
     "text": [
      "100%|███████████████████████████████████████████████████████████████████████████| 10003/10003 [00:05<00:00, 1761.96it/s]\n"
     ]
    },
    {
     "name": "stdout",
     "output_type": "stream",
     "text": [
      "1 3 3 3\n"
     ]
    },
    {
     "data": {
      "image/png": "[encoded data removed]",
      "text/plain": [
       "<Figure size 432x288 with 4 Axes>"
      ]
     },
     "metadata": {
      "needs_background": "light"
     },
     "output_type": "display_data"
    }
   ],
   "source": [
    "GADF_imgs = encode_data(raws, \"GADF\", \"True\")\n",
    "\n",
    "plt.subplots(constrained_layout=True);\n",
    "plt.subplot(221); plt.imshow(GADF_imgs[101])\n",
    "plt.subplot(222); plt.imshow(GADF_imgs[102])\n",
    "plt.subplot(223); plt.imshow(GADF_imgs[10001])\n",
    "plt.subplot(224); plt.imshow(GADF_imgs[10002])\n",
    "print(\n",
    "    len(np.unique(GADF_imgs[101])),\n",
    "    len(np.unique(GADF_imgs[102])),\n",
    "    len(np.unique(GADF_imgs[10001])),\n",
    "    len(np.unique(GADF_imgs[10002]))\n",
    "     )"
   ]
  },
  {
   "cell_type": "code",
   "execution_count": 10,
   "id": "99690f52",
   "metadata": {
    "ExecuteTime": {
     "end_time": "2023-11-17T17:46:03.439019Z",
     "start_time": "2023-11-17T17:45:52.428588Z"
    }
   },
   "outputs": [
    {
     "name": "stderr",
     "output_type": "stream",
     "text": [
      "100%|████████████████████████████████████████████████████████████████████████████| 10003/10003 [00:10<00:00, 933.54it/s]\n"
     ]
    },
    {
     "name": "stdout",
     "output_type": "stream",
     "text": [
      "3 3 3 3\n"
     ]
    },
    {
     "data": {
      "image/png": "[encoded data removed]",
      "text/plain": [
       "<Figure size 432x288 with 4 Axes>"
      ]
     },
     "metadata": {
      "needs_background": "light"
     },
     "output_type": "display_data"
    }
   ],
   "source": [
    "GAF_imgs = encode_data(raws, \"GAF\", \"True\")\n",
    "\n",
    "plt.subplots(constrained_layout=True);\n",
    "plt.subplot(221); plt.imshow(GAF_imgs[101])\n",
    "plt.subplot(222); plt.imshow(GAF_imgs[102])\n",
    "plt.subplot(223); plt.imshow(GAF_imgs[10001])\n",
    "plt.subplot(224); plt.imshow(GAF_imgs[10002])\n",
    "print(\n",
    "    len(np.unique(GAF_imgs[101])),\n",
    "    len(np.unique(GAF_imgs[102])),\n",
    "    len(np.unique(GAF_imgs[10001])),\n",
    "    len(np.unique(GAF_imgs[10002]))\n",
    "     )"
   ]
  }
 ],
 "metadata": {
  "kernelspec": {
   "display_name": "Python 3 (ipykernel)",
   "language": "python",
   "name": "python3"
  },
  "language_info": {
   "codemirror_mode": {
    "name": "ipython",
    "version": 3
   },
   "file_extension": ".py",
   "mimetype": "text/x-python",
   "name": "python",
   "nbconvert_exporter": "python",
   "pygments_lexer": "ipython3",
   "version": "3.7.12"
  }
 },
 "nbformat": 4,
 "nbformat_minor": 5
}
